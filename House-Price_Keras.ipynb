{
 "cells": [
  {
   "cell_type": "markdown",
   "id": "7962d05f",
   "metadata": {},
   "source": [
    "# Agenda:\n",
    "\n",
    "* Data read and feature transformations\n",
    "* Keras Model\n",
    "* Keras Training loop"
   ]
  },
  {
   "cell_type": "markdown",
   "id": "9014574a",
   "metadata": {},
   "source": [
    "## Import Necessary Libraries"
   ]
  },
  {
   "cell_type": "code",
   "execution_count": 4,
   "id": "84f690da",
   "metadata": {},
   "outputs": [
    {
     "name": "stdout",
     "output_type": "stream",
     "text": [
      "Requirement already satisfied: keras in /Users/ravishankarkushwaha/anaconda3/lib/python3.11/site-packages (2.13.1)\r\n"
     ]
    }
   ],
   "source": [
    "!pip install keras"
   ]
  },
  {
   "cell_type": "code",
   "execution_count": 10,
   "id": "4aab65fe",
   "metadata": {},
   "outputs": [
    {
     "name": "stdout",
     "output_type": "stream",
     "text": [
      "2.13.1\n"
     ]
    }
   ],
   "source": [
    "import keras\n",
    "print(keras.__version__)"
   ]
  },
  {
   "cell_type": "code",
   "execution_count": 12,
   "id": "32f2dc1e",
   "metadata": {},
   "outputs": [
    {
     "name": "stdout",
     "output_type": "stream",
     "text": [
      "Requirement already satisfied: tensorflow in /Users/ravishankarkushwaha/anaconda3/lib/python3.11/site-packages (2.13.0)\n",
      "Requirement already satisfied: tensorflow-macos==2.13.0 in /Users/ravishankarkushwaha/anaconda3/lib/python3.11/site-packages (from tensorflow) (2.13.0)\n",
      "Requirement already satisfied: absl-py>=1.0.0 in /Users/ravishankarkushwaha/anaconda3/lib/python3.11/site-packages (from tensorflow-macos==2.13.0->tensorflow) (2.0.0)\n",
      "Requirement already satisfied: astunparse>=1.6.0 in /Users/ravishankarkushwaha/anaconda3/lib/python3.11/site-packages (from tensorflow-macos==2.13.0->tensorflow) (1.6.3)\n",
      "Requirement already satisfied: flatbuffers>=23.1.21 in /Users/ravishankarkushwaha/anaconda3/lib/python3.11/site-packages (from tensorflow-macos==2.13.0->tensorflow) (23.5.26)\n",
      "Requirement already satisfied: gast<=0.4.0,>=0.2.1 in /Users/ravishankarkushwaha/anaconda3/lib/python3.11/site-packages (from tensorflow-macos==2.13.0->tensorflow) (0.4.0)\n",
      "Requirement already satisfied: google-pasta>=0.1.1 in /Users/ravishankarkushwaha/anaconda3/lib/python3.11/site-packages (from tensorflow-macos==2.13.0->tensorflow) (0.2.0)\n",
      "Requirement already satisfied: h5py>=2.9.0 in /Users/ravishankarkushwaha/anaconda3/lib/python3.11/site-packages (from tensorflow-macos==2.13.0->tensorflow) (3.7.0)\n",
      "Requirement already satisfied: libclang>=13.0.0 in /Users/ravishankarkushwaha/anaconda3/lib/python3.11/site-packages (from tensorflow-macos==2.13.0->tensorflow) (16.0.6)\n",
      "Requirement already satisfied: numpy<=1.24.3,>=1.22 in /Users/ravishankarkushwaha/anaconda3/lib/python3.11/site-packages (from tensorflow-macos==2.13.0->tensorflow) (1.23.5)\n",
      "Requirement already satisfied: opt-einsum>=2.3.2 in /Users/ravishankarkushwaha/anaconda3/lib/python3.11/site-packages (from tensorflow-macos==2.13.0->tensorflow) (3.3.0)\n",
      "Requirement already satisfied: packaging in /Users/ravishankarkushwaha/anaconda3/lib/python3.11/site-packages (from tensorflow-macos==2.13.0->tensorflow) (23.0)\n",
      "Requirement already satisfied: protobuf!=4.21.0,!=4.21.1,!=4.21.2,!=4.21.3,!=4.21.4,!=4.21.5,<5.0.0dev,>=3.20.3 in /Users/ravishankarkushwaha/anaconda3/lib/python3.11/site-packages (from tensorflow-macos==2.13.0->tensorflow) (4.24.3)\n",
      "Requirement already satisfied: setuptools in /Users/ravishankarkushwaha/anaconda3/lib/python3.11/site-packages (from tensorflow-macos==2.13.0->tensorflow) (68.0.0)\n",
      "Requirement already satisfied: six>=1.12.0 in /Users/ravishankarkushwaha/anaconda3/lib/python3.11/site-packages (from tensorflow-macos==2.13.0->tensorflow) (1.16.0)\n",
      "Requirement already satisfied: termcolor>=1.1.0 in /Users/ravishankarkushwaha/anaconda3/lib/python3.11/site-packages (from tensorflow-macos==2.13.0->tensorflow) (2.3.0)\n",
      "Collecting typing-extensions<4.6.0,>=3.6.6 (from tensorflow-macos==2.13.0->tensorflow)\n",
      "  Obtaining dependency information for typing-extensions<4.6.0,>=3.6.6 from https://files.pythonhosted.org/packages/31/25/5abcd82372d3d4a3932e1fa8c3dbf9efac10cc7c0d16e78467460571b404/typing_extensions-4.5.0-py3-none-any.whl.metadata\n",
      "  Downloading typing_extensions-4.5.0-py3-none-any.whl.metadata (8.5 kB)\n",
      "Requirement already satisfied: wrapt>=1.11.0 in /Users/ravishankarkushwaha/anaconda3/lib/python3.11/site-packages (from tensorflow-macos==2.13.0->tensorflow) (1.14.1)\n",
      "Requirement already satisfied: grpcio<2.0,>=1.24.3 in /Users/ravishankarkushwaha/anaconda3/lib/python3.11/site-packages (from tensorflow-macos==2.13.0->tensorflow) (1.58.0)\n",
      "Requirement already satisfied: tensorboard<2.14,>=2.13 in /Users/ravishankarkushwaha/anaconda3/lib/python3.11/site-packages (from tensorflow-macos==2.13.0->tensorflow) (2.13.0)\n",
      "Requirement already satisfied: tensorflow-estimator<2.14,>=2.13.0 in /Users/ravishankarkushwaha/anaconda3/lib/python3.11/site-packages (from tensorflow-macos==2.13.0->tensorflow) (2.13.0)\n",
      "Requirement already satisfied: keras<2.14,>=2.13.1 in /Users/ravishankarkushwaha/anaconda3/lib/python3.11/site-packages (from tensorflow-macos==2.13.0->tensorflow) (2.13.1)\n",
      "Requirement already satisfied: wheel<1.0,>=0.23.0 in /Users/ravishankarkushwaha/anaconda3/lib/python3.11/site-packages (from astunparse>=1.6.0->tensorflow-macos==2.13.0->tensorflow) (0.38.4)\n",
      "Requirement already satisfied: google-auth<3,>=1.6.3 in /Users/ravishankarkushwaha/anaconda3/lib/python3.11/site-packages (from tensorboard<2.14,>=2.13->tensorflow-macos==2.13.0->tensorflow) (2.22.0)\n",
      "Requirement already satisfied: google-auth-oauthlib<1.1,>=0.5 in /Users/ravishankarkushwaha/anaconda3/lib/python3.11/site-packages (from tensorboard<2.14,>=2.13->tensorflow-macos==2.13.0->tensorflow) (1.0.0)\n",
      "Requirement already satisfied: markdown>=2.6.8 in /Users/ravishankarkushwaha/anaconda3/lib/python3.11/site-packages (from tensorboard<2.14,>=2.13->tensorflow-macos==2.13.0->tensorflow) (3.4.1)\n",
      "Requirement already satisfied: requests<3,>=2.21.0 in /Users/ravishankarkushwaha/anaconda3/lib/python3.11/site-packages (from tensorboard<2.14,>=2.13->tensorflow-macos==2.13.0->tensorflow) (2.31.0)\n",
      "Requirement already satisfied: tensorboard-data-server<0.8.0,>=0.7.0 in /Users/ravishankarkushwaha/anaconda3/lib/python3.11/site-packages (from tensorboard<2.14,>=2.13->tensorflow-macos==2.13.0->tensorflow) (0.7.1)\n",
      "Requirement already satisfied: werkzeug>=1.0.1 in /Users/ravishankarkushwaha/anaconda3/lib/python3.11/site-packages (from tensorboard<2.14,>=2.13->tensorflow-macos==2.13.0->tensorflow) (2.2.3)\n",
      "Requirement already satisfied: cachetools<6.0,>=2.0.0 in /Users/ravishankarkushwaha/anaconda3/lib/python3.11/site-packages (from google-auth<3,>=1.6.3->tensorboard<2.14,>=2.13->tensorflow-macos==2.13.0->tensorflow) (5.3.1)\n",
      "Requirement already satisfied: pyasn1-modules>=0.2.1 in /Users/ravishankarkushwaha/anaconda3/lib/python3.11/site-packages (from google-auth<3,>=1.6.3->tensorboard<2.14,>=2.13->tensorflow-macos==2.13.0->tensorflow) (0.2.8)\n",
      "Requirement already satisfied: rsa<5,>=3.1.4 in /Users/ravishankarkushwaha/anaconda3/lib/python3.11/site-packages (from google-auth<3,>=1.6.3->tensorboard<2.14,>=2.13->tensorflow-macos==2.13.0->tensorflow) (4.9)\n",
      "Collecting urllib3<2.0 (from google-auth<3,>=1.6.3->tensorboard<2.14,>=2.13->tensorflow-macos==2.13.0->tensorflow)\n",
      "  Obtaining dependency information for urllib3<2.0 from https://files.pythonhosted.org/packages/33/cf/8435d5a7159e2a9c83a95896ed596f68cf798005fe107cc655b5c5c14704/urllib3-1.26.20-py2.py3-none-any.whl.metadata\n",
      "  Downloading urllib3-1.26.20-py2.py3-none-any.whl.metadata (50 kB)\n",
      "\u001b[2K     \u001b[90m━━━━━━━━━━━━━━━━━━━━━━━━━━━━━━━━━━━━━━━━\u001b[0m \u001b[32m50.1/50.1 kB\u001b[0m \u001b[31m2.0 MB/s\u001b[0m eta \u001b[36m0:00:00\u001b[0m\n",
      "\u001b[?25hRequirement already satisfied: requests-oauthlib>=0.7.0 in /Users/ravishankarkushwaha/anaconda3/lib/python3.11/site-packages (from google-auth-oauthlib<1.1,>=0.5->tensorboard<2.14,>=2.13->tensorflow-macos==2.13.0->tensorflow) (1.3.1)\n",
      "Requirement already satisfied: charset-normalizer<4,>=2 in /Users/ravishankarkushwaha/anaconda3/lib/python3.11/site-packages (from requests<3,>=2.21.0->tensorboard<2.14,>=2.13->tensorflow-macos==2.13.0->tensorflow) (2.0.4)\n",
      "Requirement already satisfied: idna<4,>=2.5 in /Users/ravishankarkushwaha/anaconda3/lib/python3.11/site-packages (from requests<3,>=2.21.0->tensorboard<2.14,>=2.13->tensorflow-macos==2.13.0->tensorflow) (3.4)\n",
      "Requirement already satisfied: certifi>=2017.4.17 in /Users/ravishankarkushwaha/anaconda3/lib/python3.11/site-packages (from requests<3,>=2.21.0->tensorboard<2.14,>=2.13->tensorflow-macos==2.13.0->tensorflow) (2023.7.22)\n",
      "Requirement already satisfied: MarkupSafe>=2.1.1 in /Users/ravishankarkushwaha/anaconda3/lib/python3.11/site-packages (from werkzeug>=1.0.1->tensorboard<2.14,>=2.13->tensorflow-macos==2.13.0->tensorflow) (2.1.1)\n",
      "Requirement already satisfied: pyasn1<0.5.0,>=0.4.6 in /Users/ravishankarkushwaha/anaconda3/lib/python3.11/site-packages (from pyasn1-modules>=0.2.1->google-auth<3,>=1.6.3->tensorboard<2.14,>=2.13->tensorflow-macos==2.13.0->tensorflow) (0.4.8)\n",
      "Requirement already satisfied: oauthlib>=3.0.0 in /Users/ravishankarkushwaha/anaconda3/lib/python3.11/site-packages (from requests-oauthlib>=0.7.0->google-auth-oauthlib<1.1,>=0.5->tensorboard<2.14,>=2.13->tensorflow-macos==2.13.0->tensorflow) (3.2.2)\n",
      "Using cached typing_extensions-4.5.0-py3-none-any.whl (27 kB)\n"
     ]
    },
    {
     "name": "stdout",
     "output_type": "stream",
     "text": [
      "Downloading urllib3-1.26.20-py2.py3-none-any.whl (144 kB)\n",
      "\u001b[2K   \u001b[90m━━━━━━━━━━━━━━━━━━━━━━━━━━━━━━━━━━━━━━━━\u001b[0m \u001b[32m144.2/144.2 kB\u001b[0m \u001b[31m3.2 MB/s\u001b[0m eta \u001b[36m0:00:00\u001b[0m00:01\u001b[0m\n",
      "\u001b[?25hInstalling collected packages: urllib3, typing-extensions\n",
      "  Attempting uninstall: urllib3\n",
      "    Found existing installation: urllib3 2.1.0\n",
      "    Uninstalling urllib3-2.1.0:\n",
      "      Successfully uninstalled urllib3-2.1.0\n",
      "  Attempting uninstall: typing-extensions\n",
      "    Found existing installation: typing_extensions 4.12.2\n",
      "    Uninstalling typing_extensions-4.12.2:\n",
      "      Successfully uninstalled typing_extensions-4.12.2\n",
      "\u001b[31mERROR: pip's dependency resolver does not currently take into account all the packages that are installed. This behaviour is the source of the following dependency conflicts.\n",
      "sqlalchemy 2.0.34 requires typing-extensions>=4.6.0, but you have typing-extensions 4.5.0 which is incompatible.\n",
      "torch 2.4.1 requires typing-extensions>=4.8.0, but you have typing-extensions 4.5.0 which is incompatible.\n",
      "pydantic-core 2.23.3 requires typing-extensions!=4.7.0,>=4.6.0, but you have typing-extensions 4.5.0 which is incompatible.\n",
      "azure-storage-blob 12.23.1 requires typing-extensions>=4.6.0, but you have typing-extensions 4.5.0 which is incompatible.\n",
      "ibm-cloud-sdk-core 3.18.2 requires urllib3<3.0.0,>=2.1.0, but you have urllib3 1.26.20 which is incompatible.\n",
      "openai 1.45.0 requires typing-extensions<5,>=4.11, but you have typing-extensions 4.5.0 which is incompatible.\n",
      "xanadu-cloud-client 0.3.1 requires pydantic[dotenv]<2, but you have pydantic 2.9.1 which is incompatible.\n",
      "typeguard 4.3.0 requires typing-extensions>=4.10.0, but you have typing-extensions 4.5.0 which is incompatible.\n",
      "azure-core 1.31.0 requires typing-extensions>=4.6.0, but you have typing-extensions 4.5.0 which is incompatible.\n",
      "pydantic 2.9.1 requires typing-extensions>=4.6.1; python_version < \"3.13\", but you have typing-extensions 4.5.0 which is incompatible.\u001b[0m\u001b[31m\n",
      "\u001b[0mSuccessfully installed typing-extensions-4.5.0 urllib3-1.26.20\n"
     ]
    }
   ],
   "source": [
    "!pip install tensorflow"
   ]
  },
  {
   "cell_type": "code",
   "execution_count": 14,
   "id": "18e06868",
   "metadata": {},
   "outputs": [
    {
     "name": "stdout",
     "output_type": "stream",
     "text": [
      "2.13.0\n"
     ]
    }
   ],
   "source": [
    "import tensorflow \n",
    "print(tensorflow.__version__)"
   ]
  },
  {
   "cell_type": "code",
   "execution_count": 15,
   "id": "677ee09f",
   "metadata": {},
   "outputs": [],
   "source": [
    "import pandas as pd\n",
    "import numpy as np\n",
    "from sklearn.preprocessing import StandardScaler\n",
    "from sklearn.metrics import accuracy_score"
   ]
  },
  {
   "cell_type": "markdown",
   "id": "3cc07547",
   "metadata": {},
   "source": [
    "### Part 1: Import the Housing data and do feature transformations"
   ]
  },
  {
   "cell_type": "code",
   "execution_count": 16,
   "id": "93902555",
   "metadata": {},
   "outputs": [
    {
     "data": {
      "text/html": [
       "<div>\n",
       "<style scoped>\n",
       "    .dataframe tbody tr th:only-of-type {\n",
       "        vertical-align: middle;\n",
       "    }\n",
       "\n",
       "    .dataframe tbody tr th {\n",
       "        vertical-align: top;\n",
       "    }\n",
       "\n",
       "    .dataframe thead th {\n",
       "        text-align: right;\n",
       "    }\n",
       "</style>\n",
       "<table border=\"1\" class=\"dataframe\">\n",
       "  <thead>\n",
       "    <tr style=\"text-align: right;\">\n",
       "      <th></th>\n",
       "      <th>bedrooms</th>\n",
       "      <th>sqft_living</th>\n",
       "      <th>price</th>\n",
       "    </tr>\n",
       "  </thead>\n",
       "  <tbody>\n",
       "    <tr>\n",
       "      <th>0</th>\n",
       "      <td>3</td>\n",
       "      <td>1340</td>\n",
       "      <td>313000</td>\n",
       "    </tr>\n",
       "    <tr>\n",
       "      <th>1</th>\n",
       "      <td>5</td>\n",
       "      <td>3650</td>\n",
       "      <td>2384000</td>\n",
       "    </tr>\n",
       "    <tr>\n",
       "      <th>2</th>\n",
       "      <td>3</td>\n",
       "      <td>1930</td>\n",
       "      <td>342000</td>\n",
       "    </tr>\n",
       "    <tr>\n",
       "      <th>3</th>\n",
       "      <td>3</td>\n",
       "      <td>2000</td>\n",
       "      <td>420000</td>\n",
       "    </tr>\n",
       "    <tr>\n",
       "      <th>4</th>\n",
       "      <td>4</td>\n",
       "      <td>1940</td>\n",
       "      <td>550000</td>\n",
       "    </tr>\n",
       "  </tbody>\n",
       "</table>\n",
       "</div>"
      ],
      "text/plain": [
       "   bedrooms  sqft_living    price\n",
       "0         3         1340   313000\n",
       "1         5         3650  2384000\n",
       "2         3         1930   342000\n",
       "3         3         2000   420000\n",
       "4         4         1940   550000"
      ]
     },
     "execution_count": 16,
     "metadata": {},
     "output_type": "execute_result"
    }
   ],
   "source": [
    "df = pd.read_csv(\"house_price_full.csv\")\n",
    "df.head()"
   ]
  },
  {
   "cell_type": "markdown",
   "id": "c81e3ae6",
   "metadata": {},
   "source": [
    "#### Feature transformations"
   ]
  },
  {
   "cell_type": "code",
   "execution_count": 44,
   "id": "d1d16d6e",
   "metadata": {},
   "outputs": [],
   "source": [
    "X = df.copy()\n",
    "\n",
    "# Remove target from x and store in Y\n",
    "Y = X.pop('price')\n",
    "\n",
    "# Perform a scaler transform of the input data\n",
    "scaler = StandardScaler()\n",
    "X = scaler.fit_transform(X)\n",
    "\n",
    "# Perform log transformations of target variable\n",
    "Y = np.log(Y)"
   ]
  },
  {
   "cell_type": "code",
   "execution_count": 45,
   "id": "1f4bbfc0",
   "metadata": {},
   "outputs": [
    {
     "data": {
      "text/html": [
       "<div>\n",
       "<style scoped>\n",
       "    .dataframe tbody tr th:only-of-type {\n",
       "        vertical-align: middle;\n",
       "    }\n",
       "\n",
       "    .dataframe tbody tr th {\n",
       "        vertical-align: top;\n",
       "    }\n",
       "\n",
       "    .dataframe thead th {\n",
       "        text-align: right;\n",
       "    }\n",
       "</style>\n",
       "<table border=\"1\" class=\"dataframe\">\n",
       "  <thead>\n",
       "    <tr style=\"text-align: right;\">\n",
       "      <th></th>\n",
       "      <th>0</th>\n",
       "      <th>1</th>\n",
       "    </tr>\n",
       "  </thead>\n",
       "  <tbody>\n",
       "    <tr>\n",
       "      <th>0</th>\n",
       "      <td>-0.433198</td>\n",
       "      <td>-0.753258</td>\n",
       "    </tr>\n",
       "    <tr>\n",
       "      <th>1</th>\n",
       "      <td>1.675735</td>\n",
       "      <td>1.457330</td>\n",
       "    </tr>\n",
       "    <tr>\n",
       "      <th>2</th>\n",
       "      <td>-0.433198</td>\n",
       "      <td>-0.188649</td>\n",
       "    </tr>\n",
       "    <tr>\n",
       "      <th>3</th>\n",
       "      <td>-0.433198</td>\n",
       "      <td>-0.121661</td>\n",
       "    </tr>\n",
       "    <tr>\n",
       "      <th>4</th>\n",
       "      <td>0.621269</td>\n",
       "      <td>-0.179079</td>\n",
       "    </tr>\n",
       "    <tr>\n",
       "      <th>...</th>\n",
       "      <td>...</td>\n",
       "      <td>...</td>\n",
       "    </tr>\n",
       "    <tr>\n",
       "      <th>494</th>\n",
       "      <td>0.621269</td>\n",
       "      <td>0.873582</td>\n",
       "    </tr>\n",
       "    <tr>\n",
       "      <th>495</th>\n",
       "      <td>1.675735</td>\n",
       "      <td>2.299459</td>\n",
       "    </tr>\n",
       "    <tr>\n",
       "      <th>496</th>\n",
       "      <td>-0.433198</td>\n",
       "      <td>-0.724549</td>\n",
       "    </tr>\n",
       "    <tr>\n",
       "      <th>497</th>\n",
       "      <td>-0.433198</td>\n",
       "      <td>-0.179079</td>\n",
       "    </tr>\n",
       "    <tr>\n",
       "      <th>498</th>\n",
       "      <td>-0.433198</td>\n",
       "      <td>-1.040347</td>\n",
       "    </tr>\n",
       "  </tbody>\n",
       "</table>\n",
       "<p>499 rows × 2 columns</p>\n",
       "</div>"
      ],
      "text/plain": [
       "            0         1\n",
       "0   -0.433198 -0.753258\n",
       "1    1.675735  1.457330\n",
       "2   -0.433198 -0.188649\n",
       "3   -0.433198 -0.121661\n",
       "4    0.621269 -0.179079\n",
       "..        ...       ...\n",
       "494  0.621269  0.873582\n",
       "495  1.675735  2.299459\n",
       "496 -0.433198 -0.724549\n",
       "497 -0.433198 -0.179079\n",
       "498 -0.433198 -1.040347\n",
       "\n",
       "[499 rows x 2 columns]"
      ]
     },
     "execution_count": 45,
     "metadata": {},
     "output_type": "execute_result"
    }
   ],
   "source": [
    "df_scaled = pd.DataFrame(X)\n",
    "df_scaled"
   ]
  },
  {
   "cell_type": "code",
   "execution_count": 46,
   "id": "3174bba0",
   "metadata": {},
   "outputs": [
    {
     "data": {
      "text/plain": [
       "0      12.653958\n",
       "1      14.684290\n",
       "2      12.742566\n",
       "3      12.948010\n",
       "4      13.217674\n",
       "         ...    \n",
       "494    13.380102\n",
       "495    13.764217\n",
       "496    12.128111\n",
       "497    12.721886\n",
       "498    12.254863\n",
       "Name: price, Length: 499, dtype: float64"
      ]
     },
     "execution_count": 46,
     "metadata": {},
     "output_type": "execute_result"
    }
   ],
   "source": [
    "Y"
   ]
  },
  {
   "cell_type": "markdown",
   "id": "4e995536",
   "metadata": {},
   "source": [
    "### Part 3: Create Model Using `keras`"
   ]
  },
  {
   "cell_type": "code",
   "execution_count": 47,
   "id": "7c546df7",
   "metadata": {},
   "outputs": [],
   "source": [
    "from tensorflow import keras"
   ]
  },
  {
   "cell_type": "code",
   "execution_count": 48,
   "id": "cd6dfdb8",
   "metadata": {},
   "outputs": [],
   "source": [
    "model = keras.Sequential(\n",
    "    [\n",
    "        keras.layers.Dense(\n",
    "            2, activation=\"sigmoid\", input_shape=(X.shape[-1],)\n",
    "        ),\n",
    "        keras.layers.Dense(1, activation=\"linear\")\n",
    "    ]\n",
    ")"
   ]
  },
  {
   "cell_type": "code",
   "execution_count": 49,
   "id": "4083a96a",
   "metadata": {},
   "outputs": [
    {
     "name": "stdout",
     "output_type": "stream",
     "text": [
      "Model: \"sequential_3\"\n",
      "_________________________________________________________________\n",
      " Layer (type)                Output Shape              Param #   \n",
      "=================================================================\n",
      " dense_6 (Dense)             (None, 2)                 6         \n",
      "                                                                 \n",
      " dense_7 (Dense)             (None, 1)                 3         \n",
      "                                                                 \n",
      "=================================================================\n",
      "Total params: 9 (36.00 Byte)\n",
      "Trainable params: 9 (36.00 Byte)\n",
      "Non-trainable params: 0 (0.00 Byte)\n",
      "_________________________________________________________________\n"
     ]
    }
   ],
   "source": [
    "model.summary()"
   ]
  },
  {
   "cell_type": "markdown",
   "id": "192b1d32",
   "metadata": {},
   "source": [
    "```python\n",
    "def random_init_params():\n",
    "    w1 = tf.Variable(tf.random.uniform((2, 2)))\n",
    "    b1 = tf.Variable(tf.random.uniform((1, 2)))\n",
    "    w2 = tf.Variable(tf.random.uniform((2, 1)))\n",
    "    b2 = tf.Variable(tf.random.uniform((1, 1)))\n",
    "    return w1,b1,w2,b2\n",
    "\n",
    "\n",
    "def forward_prop(x, w1, b1, w2, b2):\n",
    "    z1 = tf.matmul(x,w1) + b1\n",
    "    h1 = tf.math.sigmoid(z1)\n",
    "    z2 = tf.matmul(h1,w2) + b2\n",
    "    h2 = z2\n",
    "    return h2\n",
    "```"
   ]
  },
  {
   "cell_type": "code",
   "execution_count": 50,
   "id": "15738503",
   "metadata": {},
   "outputs": [
    {
     "name": "stderr",
     "output_type": "stream",
     "text": [
      "WARNING:absl:At this time, the v2.11+ optimizer `tf.keras.optimizers.SGD` runs slowly on M1/M2 Macs, please use the legacy Keras optimizer instead, located at `tf.keras.optimizers.legacy.SGD`.\n",
      "WARNING:absl:There is a known slowdown when using v2.11+ Keras optimizers on M1/M2 Macs. Falling back to the legacy Keras optimizer, i.e., `tf.keras.optimizers.legacy.SGD`.\n"
     ]
    }
   ],
   "source": [
    "model.compile(\n",
    "    optimizer=keras.optimizers.SGD(), loss=\"mean_squared_error\"\n",
    ")"
   ]
  },
  {
   "cell_type": "markdown",
   "id": "96963d73",
   "metadata": {},
   "source": [
    "```python\n",
    "def train(x, y, w1, b1, w2, b2):\n",
    "    y_true = y\n",
    "    with tf.GradientTape() as g:\n",
    "        y_pred = forward_prop(x, w1, b1, w2, b2)\n",
    "\n",
    "        # loss\n",
    "        loss = 0.5*(y_true - y_pred)** 2\n",
    "    \n",
    "    #Gradient calculation  \n",
    "    print(\"**************************************************\")\n",
    "    print(\"GRADIENTS\")\n",
    "    print(\"**************************************************\")\n",
    "    gw1, gb1, gw2, gb2 = g.gradient(loss, [w1, b1, w2, b2])\n",
    "    print(\" the gradient for 1st layer weights are:\\n\",gw1.numpy())\n",
    "    print(\"--------------------------------------------------\")\n",
    "    print(\" the gradient for 2nd layer weights are:\\n\",gw2.numpy())\n",
    "    print(\"--------------------------------------------------\")\n",
    "    print(\" the gradient for 1st layer bias are:\\n\",gb1.numpy())\n",
    "    print(\"--------------------------------------------------\")\n",
    "    print(\" the gradient for 2nd layer bias are:\\n\",gb2.numpy())\n",
    "    print(\"--------------------------------------------------\")\n",
    "\n",
    "    # Gradient descent:\n",
    "    lr=0.2\n",
    "    w1.assign_sub(lr*gw1)\n",
    "    b1.assign_sub(lr*gb1) \n",
    "    w2.assign_sub(lr*gw2)\n",
    "    b2.assign_sub(lr*gb2)\n",
    "    print(\"**************************************************\")\n",
    "    print(\"NEW UPDATES\")\n",
    "    print(\"**************************************************\")\n",
    "    print(\" the updated 1st layer weights are:\\n\",w1.numpy())\n",
    "    print(\"--------------------------------------------------\")\n",
    "    print(\" the updated 2nd layer weights are:\\n\",w2.numpy())\n",
    "    print(\"--------------------------------------------------\")\n",
    "    print(\" the updated 1st layer bias are:\\n\",b1.numpy())\n",
    "    print(\"--------------------------------------------------\")\n",
    "    print(\" the updated 2nd layer bias are:\\n\",b2.numpy())\n",
    "\n",
    "\n",
    "    return w1, b1, w2, b2,loss\n",
    "\n",
    "```"
   ]
  },
  {
   "cell_type": "code",
   "execution_count": 51,
   "id": "4d390587",
   "metadata": {},
   "outputs": [
    {
     "name": "stdout",
     "output_type": "stream",
     "text": [
      "Epoch 1/10\n",
      "16/16 [==============================] - 0s 472us/step - loss: 111.4208\n",
      "Epoch 2/10\n",
      "16/16 [==============================] - 0s 351us/step - loss: 32.3976\n",
      "Epoch 3/10\n",
      "16/16 [==============================] - 0s 355us/step - loss: 5.9406\n",
      "Epoch 4/10\n",
      "16/16 [==============================] - 0s 367us/step - loss: 1.0412\n",
      "Epoch 5/10\n",
      "16/16 [==============================] - 0s 327us/step - loss: 0.3012\n",
      "Epoch 6/10\n",
      "16/16 [==============================] - 0s 396us/step - loss: 0.1923\n",
      "Epoch 7/10\n",
      "16/16 [==============================] - 0s 322us/step - loss: 0.1739\n",
      "Epoch 8/10\n",
      "16/16 [==============================] - 0s 314us/step - loss: 0.1694\n",
      "Epoch 9/10\n",
      "16/16 [==============================] - 0s 342us/step - loss: 0.1669\n",
      "Epoch 10/10\n",
      "16/16 [==============================] - 0s 359us/step - loss: 0.1649\n"
     ]
    },
    {
     "data": {
      "text/plain": [
       "<keras.src.callbacks.History at 0x1118ccb10>"
      ]
     },
     "execution_count": 51,
     "metadata": {},
     "output_type": "execute_result"
    }
   ],
   "source": [
    "model.fit(X, Y.values, epochs=10, batch_size=32)"
   ]
  },
  {
   "cell_type": "code",
   "execution_count": 53,
   "id": "104d5402",
   "metadata": {},
   "outputs": [
    {
     "name": "stdout",
     "output_type": "stream",
     "text": [
      "16/16 [==============================] - 0s 432us/step\n"
     ]
    },
    {
     "data": {
      "text/plain": [
       "array([12.869589 , 13.561279 , 13.026676 , 13.042841 , 13.160242 ,\n",
       "       12.560898 , 12.707465 , 13.320253 , 13.1315565, 13.047585 ,\n",
       "       12.972546 , 13.354694 , 13.11249  , 12.791172 , 13.458633 ,\n",
       "       12.826574 , 12.935387 , 13.38287  , 12.878512 , 12.820242 ,\n",
       "       13.094538 , 13.026903 , 12.982771 , 13.3236885, 13.070541 ,\n",
       "       13.062893 , 13.118305 , 13.220631 , 13.443358 , 13.161919 ,\n",
       "       13.0591545, 13.345219 , 13.130011 , 13.338741 , 13.447006 ,\n",
       "       13.25523  , 12.533363 , 13.007584 , 13.033665 , 13.124039 ,\n",
       "       12.938112 , 13.035835 , 12.550661 , 12.987819 , 12.666496 ,\n",
       "       12.813864 , 13.0359745, 13.026676 , 12.848366 , 13.409676 ,\n",
       "       13.320253 , 13.211031 , 13.180241 , 12.99531  , 13.321044 ,\n",
       "       13.15531  , 13.218433 , 13.562414 , 12.863583 , 12.782766 ,\n",
       "       13.409676 , 13.175344 , 13.3236885, 13.151491 , 13.354694 ,\n",
       "       12.567663 , 12.956884 , 12.764532 , 12.993849 , 13.086311 ,\n",
       "       13.287785 , 13.202126 , 13.237856 , 13.019594 , 12.866592 ,\n",
       "       12.68433  , 13.21401  , 13.3236885, 13.202778 , 13.142563 ,\n",
       "       13.172392 , 13.4533   , 12.971563 , 12.99531  , 13.25037  ,\n",
       "       12.89237  , 12.645163 , 12.910353 , 12.724339 , 12.663485 ,\n",
       "       13.50062  , 13.077932 , 13.535727 , 13.116377 , 12.93265  ,\n",
       "       13.4292145, 12.964764 , 13.487244 , 12.890249 , 13.598488 ,\n",
       "       13.392574 , 13.045109 , 12.866592 , 13.256498 , 13.22917  ,\n",
       "       13.353136 , 13.191294 , 13.509096 , 12.547225 , 12.961479 ,\n",
       "       13.008732 , 13.244156 , 12.777946 , 13.393409 , 13.177178 ,\n",
       "       13.007076 , 13.092495 , 12.536846 , 13.502069 , 12.962149 ,\n",
       "       13.1675625, 12.901804 , 13.884876 , 13.014822 , 13.014822 ,\n",
       "       12.890249 , 13.035835 , 12.645163 , 13.024326 , 13.353136 ,\n",
       "       13.25523  , 12.929901 , 13.283064 , 12.914246 , 12.817201 ,\n",
       "       13.242065 , 12.99531  , 13.177178 , 12.992824 , 13.270474 ,\n",
       "       13.0290165, 12.651316 , 13.420841 , 13.514564 , 12.935659 ,\n",
       "       12.948906 , 12.8896675, 13.229385 , 13.637695 , 12.772539 ,\n",
       "       13.272434 , 13.023904 , 12.632717 , 12.872576 , 13.209547 ,\n",
       "       12.913179 , 13.042841 , 12.610483 , 12.505068 , 13.27565  ,\n",
       "       12.938112 , 13.2005005, 12.980694 , 12.951576 , 13.417179 ,\n",
       "       13.147831 , 13.047585 , 12.567663 , 12.777946 , 12.845287 ,\n",
       "       13.619916 , 13.239965 , 13.337102 , 12.956884 , 12.954235 ,\n",
       "       13.007584 , 13.174789 , 12.890249 , 13.041733 , 13.1371   ,\n",
       "       12.764532 , 12.672487 , 13.248514 , 13.327878 , 13.272434 ,\n",
       "       13.381454 , 13.188967 , 13.007584 , 13.135155 , 13.458384 ,\n",
       "       12.893156 , 12.918798 , 13.071546 , 13.431475 , 12.951576 ,\n",
       "       12.992824 , 13.174789 , 13.233608 , 13.37134  , 12.860563 ,\n",
       "       13.471871 , 13.460379 , 13.479549 , 13.458633 , 13.21966  ,\n",
       "       12.790321 , 13.395282 , 13.315035 , 12.835983 , 13.325396 ,\n",
       "       13.418406 , 12.797714 , 13.218369 , 13.019594 , 12.577723 ,\n",
       "       12.967369 , 12.893156 , 13.639102 , 13.038273 , 12.654375 ,\n",
       "       13.086311 , 12.690996 , 12.910353 , 13.455296 , 13.176985 ,\n",
       "       13.440386 , 12.848366 , 13.637695 , 13.372807 , 12.81706  ,\n",
       "       13.285515 , 12.757753 , 13.268505 , 13.517197 , 12.842197 ,\n",
       "       12.927143 , 12.943531 , 12.797714 , 13.00515  , 13.147945 ,\n",
       "       13.175344 , 13.788017 , 13.264542 , 13.103638 , 13.058506 ,\n",
       "       12.9853   , 12.964764 , 12.762138 , 13.339409 , 13.132587 ,\n",
       "       12.887333 , 13.01242  , 13.878386 , 12.613695 , 13.181856 ,\n",
       "       12.764532 , 12.938112 , 13.300745 , 13.024326 , 13.116377 ,\n",
       "       12.426794 , 13.284    , 13.25523  , 13.1371   , 12.604026 ,\n",
       "       12.540318 , 13.367035 , 12.987819 , 12.707465 , 13.033665 ,\n",
       "       13.4090395, 12.973209 , 13.609327 , 13.244156 , 13.084525 ,\n",
       "       13.309741 , 13.147831 , 13.084231 , 13.049614 , 13.100607 ,\n",
       "       12.946224 , 12.519311 , 12.7852955, 12.951576 , 13.631634 ,\n",
       "       13.218241 , 13.0290165, 12.890249 , 12.7746105, 12.540318 ,\n",
       "       12.571028 , 13.706493 , 13.216227 , 12.943531 , 12.915994 ,\n",
       "       12.869589 , 13.010007 , 13.151491 , 12.613695 , 12.881464 ,\n",
       "       12.954235 , 13.473255 , 13.2073   , 12.9853   , 12.959522 ,\n",
       "       13.002707 , 13.222818 , 13.03879  , 12.845287 , 13.621071 ,\n",
       "       13.473711 , 12.648245 , 13.310806 , 13.364943 , 12.945148 ,\n",
       "       12.540318 , 12.75951  , 13.062893 , 13.4977   , 13.106323 ,\n",
       "       12.962149 , 13.291531 , 13.479549 , 12.842197 , 13.179556 ,\n",
       "       13.311514 , 12.594251 , 13.033665 , 12.505068 , 12.710306 ,\n",
       "       12.84053  , 13.205044 , 13.12742  , 12.910355 , 12.967369 ,\n",
       "       13.0290165, 13.246237 , 13.188967 , 13.422049 , 13.231468 ,\n",
       "       12.884403 , 12.620083 , 12.913179 , 13.278257 , 13.371195 ,\n",
       "       13.094538 , 13.024326 , 13.017214 , 13.231468 , 12.68433  ,\n",
       "       12.587675 , 13.407121 , 13.174789 , 12.607261 , 13.135155 ,\n",
       "       13.038273 , 13.625191 , 12.672487 , 13.237856 , 13.1315565,\n",
       "       13.212488 , 13.237856 , 12.918798 , 12.744056 , 12.823414 ,\n",
       "       12.860563 , 13.439873 , 12.982771 , 12.863583 , 13.274385 ,\n",
       "       12.839096 , 12.845287 , 13.517878 , 13.466225 , 12.927143 ,\n",
       "       12.762138 , 12.904665 , 12.884403 , 13.168698 , 12.940827 ,\n",
       "       13.152826 , 13.046239 , 12.890249 , 12.635845 , 12.554085 ,\n",
       "       13.108566 , 12.607261 , 12.594251 , 13.501115 , 12.954235 ,\n",
       "       13.465263 , 13.333797 , 13.111662 , 13.020893 , 13.007584 ,\n",
       "       12.587675 , 13.140751 , 13.459383 , 13.300745 , 12.884403 ,\n",
       "       13.233608 , 13.276325 , 12.536846 , 13.084525 , 13.223873 ,\n",
       "       12.505068 , 12.884403 , 12.90037  , 12.833641 , 13.065071 ,\n",
       "       12.781271 , 12.915994 , 13.1675625, 12.890249 , 13.4563675,\n",
       "       13.218433 , 13.024326 , 12.813864 , 13.574995 , 13.174789 ,\n",
       "       13.212452 , 13.541033 , 13.341995 , 12.648245 , 13.381454 ,\n",
       "       12.893156 , 13.268505 , 13.157782 , 12.959522 , 12.887333 ,\n",
       "       13.311514 , 13.174789 , 13.205044 , 12.873171 , 12.982771 ,\n",
       "       13.345669 , 12.727112 , 13.160242 , 12.890249 , 12.875549 ,\n",
       "       12.832857 , 13.340372 , 13.462349 , 13.248308 , 13.291021 ,\n",
       "       13.032869 , 13.375719 , 12.771263 , 13.157782 , 12.990326 ,\n",
       "       13.042841 , 12.967369 , 13.677877 , 12.857531 , 13.262545 ,\n",
       "       12.648245 , 13.244156 , 13.3236885, 13.341995 , 12.607261 ,\n",
       "       12.869589 , 13.4371605, 13.72406  , 12.760471 , 13.482651 ,\n",
       "       13.071546 , 13.285896 , 13.160242 , 12.872576 , 13.211782 ,\n",
       "       12.878512 , 13.562953 , 13.340372 , 13.045109 , 13.4084015,\n",
       "       12.672487 , 12.975119 , 12.334911 , 12.93265  , 13.155001 ,\n",
       "       13.531632 , 12.669497 , 13.561279 , 13.080042 , 13.289661 ,\n",
       "       12.571028 , 13.36389  , 13.202778 , 13.427988 , 13.379402 ,\n",
       "       13.086311 , 13.106323 , 13.212488 , 12.757753 , 13.372807 ,\n",
       "       13.6404915, 12.878512 , 13.0290165, 12.7746105], dtype=float32)"
      ]
     },
     "execution_count": 53,
     "metadata": {},
     "output_type": "execute_result"
    }
   ],
   "source": [
    "model.predict(X)[:,0]"
   ]
  },
  {
   "cell_type": "code",
   "execution_count": null,
   "id": "e08e8f1c",
   "metadata": {},
   "outputs": [],
   "source": []
  }
 ],
 "metadata": {
  "kernelspec": {
   "display_name": "Python 3 (ipykernel)",
   "language": "python",
   "name": "python3"
  },
  "language_info": {
   "codemirror_mode": {
    "name": "ipython",
    "version": 3
   },
   "file_extension": ".py",
   "mimetype": "text/x-python",
   "name": "python",
   "nbconvert_exporter": "python",
   "pygments_lexer": "ipython3",
   "version": "3.11.4"
  }
 },
 "nbformat": 4,
 "nbformat_minor": 5
}
