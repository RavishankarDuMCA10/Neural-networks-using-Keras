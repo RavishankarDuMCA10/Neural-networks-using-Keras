{
 "cells": [
  {
   "cell_type": "markdown",
   "id": "13e9b972",
   "metadata": {},
   "source": [
    "# Agenda:\n",
    "\n",
    "* MNIST Dataset\n",
    "* Model Architecture\n",
    "* Model Training\n",
    "* Model inference/prediction"
   ]
  },
  {
   "cell_type": "markdown",
   "id": "a49eff97",
   "metadata": {},
   "source": [
    "### Importing libraries"
   ]
  },
  {
   "cell_type": "code",
   "execution_count": 1,
   "id": "a239f4d5",
   "metadata": {},
   "outputs": [],
   "source": [
    "import numpy as np\n",
    "import pandas as pd\n",
    "import matplotlib.pyplot as plt\n",
    "import tensorflow as tf\n",
    "from tensorflow import keras\n",
    "from sklearn.model_selection import train_test_split\n",
    "%matplotlib inline"
   ]
  },
  {
   "cell_type": "markdown",
   "id": "165704bf",
   "metadata": {},
   "source": [
    "## Part 1: MNIST Dataset"
   ]
  },
  {
   "cell_type": "markdown",
   "id": "f5ce78d0",
   "metadata": {},
   "source": [
    "### Loading data"
   ]
  },
  {
   "cell_type": "code",
   "execution_count": 2,
   "id": "4b1ec6a6",
   "metadata": {},
   "outputs": [
    {
     "name": "stdout",
     "output_type": "stream",
     "text": [
      "Archive:  MNIST_data.zip\n",
      "  inflating: test.csv                \n",
      "  inflating: train.csv               \n",
      "MNIST Dataset using Keras.ipynb test.csv\n",
      "MNIST_data.zip                  train.csv\n"
     ]
    }
   ],
   "source": [
    "!unzip MNIST_data.zip\n",
    "!ls"
   ]
  },
  {
   "cell_type": "code",
   "execution_count": null,
   "id": "f0e638ef",
   "metadata": {},
   "outputs": [],
   "source": []
  }
 ],
 "metadata": {
  "kernelspec": {
   "display_name": "Python 3 (ipykernel)",
   "language": "python",
   "name": "python3"
  },
  "language_info": {
   "codemirror_mode": {
    "name": "ipython",
    "version": 3
   },
   "file_extension": ".py",
   "mimetype": "text/x-python",
   "name": "python",
   "nbconvert_exporter": "python",
   "pygments_lexer": "ipython3",
   "version": "3.11.4"
  }
 },
 "nbformat": 4,
 "nbformat_minor": 5
}
