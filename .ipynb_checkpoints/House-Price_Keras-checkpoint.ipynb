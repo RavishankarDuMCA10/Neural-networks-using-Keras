{
 "cells": [
  {
   "cell_type": "markdown",
   "id": "e1a852c8",
   "metadata": {},
   "source": [
    "# Agenda:\n",
    "\n",
    "* Data read and feature transformations\n",
    "* Keras Model\n",
    "* Keras Training loop"
   ]
  },
  {
   "cell_type": "markdown",
   "id": "038ca2bd",
   "metadata": {},
   "source": [
    "## Import Necessary Libraries"
   ]
  },
  {
   "cell_type": "code",
   "execution_count": 4,
   "id": "3b08c5ae",
   "metadata": {},
   "outputs": [
    {
     "name": "stdout",
     "output_type": "stream",
     "text": [
      "Requirement already satisfied: keras in /Users/ravishankarkushwaha/anaconda3/lib/python3.11/site-packages (2.13.1)\r\n"
     ]
    }
   ],
   "source": [
    "!pip install keras"
   ]
  },
  {
   "cell_type": "code",
   "execution_count": 10,
   "id": "b83842eb",
   "metadata": {},
   "outputs": [
    {
     "name": "stdout",
     "output_type": "stream",
     "text": [
      "2.13.1\n"
     ]
    }
   ],
   "source": [
    "import keras\n",
    "print(keras.__version__)"
   ]
  },
  {
   "cell_type": "code",
   "execution_count": 12,
   "id": "6804d84e",
   "metadata": {},
   "outputs": [
    {
     "name": "stdout",
     "output_type": "stream",
     "text": [
      "Requirement already satisfied: tensorflow in /Users/ravishankarkushwaha/anaconda3/lib/python3.11/site-packages (2.13.0)\n",
      "Requirement already satisfied: tensorflow-macos==2.13.0 in /Users/ravishankarkushwaha/anaconda3/lib/python3.11/site-packages (from tensorflow) (2.13.0)\n",
      "Requirement already satisfied: absl-py>=1.0.0 in /Users/ravishankarkushwaha/anaconda3/lib/python3.11/site-packages (from tensorflow-macos==2.13.0->tensorflow) (2.0.0)\n",
      "Requirement already satisfied: astunparse>=1.6.0 in /Users/ravishankarkushwaha/anaconda3/lib/python3.11/site-packages (from tensorflow-macos==2.13.0->tensorflow) (1.6.3)\n",
      "Requirement already satisfied: flatbuffers>=23.1.21 in /Users/ravishankarkushwaha/anaconda3/lib/python3.11/site-packages (from tensorflow-macos==2.13.0->tensorflow) (23.5.26)\n",
      "Requirement already satisfied: gast<=0.4.0,>=0.2.1 in /Users/ravishankarkushwaha/anaconda3/lib/python3.11/site-packages (from tensorflow-macos==2.13.0->tensorflow) (0.4.0)\n",
      "Requirement already satisfied: google-pasta>=0.1.1 in /Users/ravishankarkushwaha/anaconda3/lib/python3.11/site-packages (from tensorflow-macos==2.13.0->tensorflow) (0.2.0)\n",
      "Requirement already satisfied: h5py>=2.9.0 in /Users/ravishankarkushwaha/anaconda3/lib/python3.11/site-packages (from tensorflow-macos==2.13.0->tensorflow) (3.7.0)\n",
      "Requirement already satisfied: libclang>=13.0.0 in /Users/ravishankarkushwaha/anaconda3/lib/python3.11/site-packages (from tensorflow-macos==2.13.0->tensorflow) (16.0.6)\n",
      "Requirement already satisfied: numpy<=1.24.3,>=1.22 in /Users/ravishankarkushwaha/anaconda3/lib/python3.11/site-packages (from tensorflow-macos==2.13.0->tensorflow) (1.23.5)\n",
      "Requirement already satisfied: opt-einsum>=2.3.2 in /Users/ravishankarkushwaha/anaconda3/lib/python3.11/site-packages (from tensorflow-macos==2.13.0->tensorflow) (3.3.0)\n",
      "Requirement already satisfied: packaging in /Users/ravishankarkushwaha/anaconda3/lib/python3.11/site-packages (from tensorflow-macos==2.13.0->tensorflow) (23.0)\n",
      "Requirement already satisfied: protobuf!=4.21.0,!=4.21.1,!=4.21.2,!=4.21.3,!=4.21.4,!=4.21.5,<5.0.0dev,>=3.20.3 in /Users/ravishankarkushwaha/anaconda3/lib/python3.11/site-packages (from tensorflow-macos==2.13.0->tensorflow) (4.24.3)\n",
      "Requirement already satisfied: setuptools in /Users/ravishankarkushwaha/anaconda3/lib/python3.11/site-packages (from tensorflow-macos==2.13.0->tensorflow) (68.0.0)\n",
      "Requirement already satisfied: six>=1.12.0 in /Users/ravishankarkushwaha/anaconda3/lib/python3.11/site-packages (from tensorflow-macos==2.13.0->tensorflow) (1.16.0)\n",
      "Requirement already satisfied: termcolor>=1.1.0 in /Users/ravishankarkushwaha/anaconda3/lib/python3.11/site-packages (from tensorflow-macos==2.13.0->tensorflow) (2.3.0)\n",
      "Collecting typing-extensions<4.6.0,>=3.6.6 (from tensorflow-macos==2.13.0->tensorflow)\n",
      "  Obtaining dependency information for typing-extensions<4.6.0,>=3.6.6 from https://files.pythonhosted.org/packages/31/25/5abcd82372d3d4a3932e1fa8c3dbf9efac10cc7c0d16e78467460571b404/typing_extensions-4.5.0-py3-none-any.whl.metadata\n",
      "  Downloading typing_extensions-4.5.0-py3-none-any.whl.metadata (8.5 kB)\n",
      "Requirement already satisfied: wrapt>=1.11.0 in /Users/ravishankarkushwaha/anaconda3/lib/python3.11/site-packages (from tensorflow-macos==2.13.0->tensorflow) (1.14.1)\n",
      "Requirement already satisfied: grpcio<2.0,>=1.24.3 in /Users/ravishankarkushwaha/anaconda3/lib/python3.11/site-packages (from tensorflow-macos==2.13.0->tensorflow) (1.58.0)\n",
      "Requirement already satisfied: tensorboard<2.14,>=2.13 in /Users/ravishankarkushwaha/anaconda3/lib/python3.11/site-packages (from tensorflow-macos==2.13.0->tensorflow) (2.13.0)\n",
      "Requirement already satisfied: tensorflow-estimator<2.14,>=2.13.0 in /Users/ravishankarkushwaha/anaconda3/lib/python3.11/site-packages (from tensorflow-macos==2.13.0->tensorflow) (2.13.0)\n",
      "Requirement already satisfied: keras<2.14,>=2.13.1 in /Users/ravishankarkushwaha/anaconda3/lib/python3.11/site-packages (from tensorflow-macos==2.13.0->tensorflow) (2.13.1)\n",
      "Requirement already satisfied: wheel<1.0,>=0.23.0 in /Users/ravishankarkushwaha/anaconda3/lib/python3.11/site-packages (from astunparse>=1.6.0->tensorflow-macos==2.13.0->tensorflow) (0.38.4)\n",
      "Requirement already satisfied: google-auth<3,>=1.6.3 in /Users/ravishankarkushwaha/anaconda3/lib/python3.11/site-packages (from tensorboard<2.14,>=2.13->tensorflow-macos==2.13.0->tensorflow) (2.22.0)\n",
      "Requirement already satisfied: google-auth-oauthlib<1.1,>=0.5 in /Users/ravishankarkushwaha/anaconda3/lib/python3.11/site-packages (from tensorboard<2.14,>=2.13->tensorflow-macos==2.13.0->tensorflow) (1.0.0)\n",
      "Requirement already satisfied: markdown>=2.6.8 in /Users/ravishankarkushwaha/anaconda3/lib/python3.11/site-packages (from tensorboard<2.14,>=2.13->tensorflow-macos==2.13.0->tensorflow) (3.4.1)\n",
      "Requirement already satisfied: requests<3,>=2.21.0 in /Users/ravishankarkushwaha/anaconda3/lib/python3.11/site-packages (from tensorboard<2.14,>=2.13->tensorflow-macos==2.13.0->tensorflow) (2.31.0)\n",
      "Requirement already satisfied: tensorboard-data-server<0.8.0,>=0.7.0 in /Users/ravishankarkushwaha/anaconda3/lib/python3.11/site-packages (from tensorboard<2.14,>=2.13->tensorflow-macos==2.13.0->tensorflow) (0.7.1)\n",
      "Requirement already satisfied: werkzeug>=1.0.1 in /Users/ravishankarkushwaha/anaconda3/lib/python3.11/site-packages (from tensorboard<2.14,>=2.13->tensorflow-macos==2.13.0->tensorflow) (2.2.3)\n",
      "Requirement already satisfied: cachetools<6.0,>=2.0.0 in /Users/ravishankarkushwaha/anaconda3/lib/python3.11/site-packages (from google-auth<3,>=1.6.3->tensorboard<2.14,>=2.13->tensorflow-macos==2.13.0->tensorflow) (5.3.1)\n",
      "Requirement already satisfied: pyasn1-modules>=0.2.1 in /Users/ravishankarkushwaha/anaconda3/lib/python3.11/site-packages (from google-auth<3,>=1.6.3->tensorboard<2.14,>=2.13->tensorflow-macos==2.13.0->tensorflow) (0.2.8)\n",
      "Requirement already satisfied: rsa<5,>=3.1.4 in /Users/ravishankarkushwaha/anaconda3/lib/python3.11/site-packages (from google-auth<3,>=1.6.3->tensorboard<2.14,>=2.13->tensorflow-macos==2.13.0->tensorflow) (4.9)\n",
      "Collecting urllib3<2.0 (from google-auth<3,>=1.6.3->tensorboard<2.14,>=2.13->tensorflow-macos==2.13.0->tensorflow)\n",
      "  Obtaining dependency information for urllib3<2.0 from https://files.pythonhosted.org/packages/33/cf/8435d5a7159e2a9c83a95896ed596f68cf798005fe107cc655b5c5c14704/urllib3-1.26.20-py2.py3-none-any.whl.metadata\n",
      "  Downloading urllib3-1.26.20-py2.py3-none-any.whl.metadata (50 kB)\n",
      "\u001b[2K     \u001b[90m━━━━━━━━━━━━━━━━━━━━━━━━━━━━━━━━━━━━━━━━\u001b[0m \u001b[32m50.1/50.1 kB\u001b[0m \u001b[31m2.0 MB/s\u001b[0m eta \u001b[36m0:00:00\u001b[0m\n",
      "\u001b[?25hRequirement already satisfied: requests-oauthlib>=0.7.0 in /Users/ravishankarkushwaha/anaconda3/lib/python3.11/site-packages (from google-auth-oauthlib<1.1,>=0.5->tensorboard<2.14,>=2.13->tensorflow-macos==2.13.0->tensorflow) (1.3.1)\n",
      "Requirement already satisfied: charset-normalizer<4,>=2 in /Users/ravishankarkushwaha/anaconda3/lib/python3.11/site-packages (from requests<3,>=2.21.0->tensorboard<2.14,>=2.13->tensorflow-macos==2.13.0->tensorflow) (2.0.4)\n",
      "Requirement already satisfied: idna<4,>=2.5 in /Users/ravishankarkushwaha/anaconda3/lib/python3.11/site-packages (from requests<3,>=2.21.0->tensorboard<2.14,>=2.13->tensorflow-macos==2.13.0->tensorflow) (3.4)\n",
      "Requirement already satisfied: certifi>=2017.4.17 in /Users/ravishankarkushwaha/anaconda3/lib/python3.11/site-packages (from requests<3,>=2.21.0->tensorboard<2.14,>=2.13->tensorflow-macos==2.13.0->tensorflow) (2023.7.22)\n",
      "Requirement already satisfied: MarkupSafe>=2.1.1 in /Users/ravishankarkushwaha/anaconda3/lib/python3.11/site-packages (from werkzeug>=1.0.1->tensorboard<2.14,>=2.13->tensorflow-macos==2.13.0->tensorflow) (2.1.1)\n",
      "Requirement already satisfied: pyasn1<0.5.0,>=0.4.6 in /Users/ravishankarkushwaha/anaconda3/lib/python3.11/site-packages (from pyasn1-modules>=0.2.1->google-auth<3,>=1.6.3->tensorboard<2.14,>=2.13->tensorflow-macos==2.13.0->tensorflow) (0.4.8)\n",
      "Requirement already satisfied: oauthlib>=3.0.0 in /Users/ravishankarkushwaha/anaconda3/lib/python3.11/site-packages (from requests-oauthlib>=0.7.0->google-auth-oauthlib<1.1,>=0.5->tensorboard<2.14,>=2.13->tensorflow-macos==2.13.0->tensorflow) (3.2.2)\n",
      "Using cached typing_extensions-4.5.0-py3-none-any.whl (27 kB)\n"
     ]
    },
    {
     "name": "stdout",
     "output_type": "stream",
     "text": [
      "Downloading urllib3-1.26.20-py2.py3-none-any.whl (144 kB)\n",
      "\u001b[2K   \u001b[90m━━━━━━━━━━━━━━━━━━━━━━━━━━━━━━━━━━━━━━━━\u001b[0m \u001b[32m144.2/144.2 kB\u001b[0m \u001b[31m3.2 MB/s\u001b[0m eta \u001b[36m0:00:00\u001b[0m00:01\u001b[0m\n",
      "\u001b[?25hInstalling collected packages: urllib3, typing-extensions\n",
      "  Attempting uninstall: urllib3\n",
      "    Found existing installation: urllib3 2.1.0\n",
      "    Uninstalling urllib3-2.1.0:\n",
      "      Successfully uninstalled urllib3-2.1.0\n",
      "  Attempting uninstall: typing-extensions\n",
      "    Found existing installation: typing_extensions 4.12.2\n",
      "    Uninstalling typing_extensions-4.12.2:\n",
      "      Successfully uninstalled typing_extensions-4.12.2\n",
      "\u001b[31mERROR: pip's dependency resolver does not currently take into account all the packages that are installed. This behaviour is the source of the following dependency conflicts.\n",
      "sqlalchemy 2.0.34 requires typing-extensions>=4.6.0, but you have typing-extensions 4.5.0 which is incompatible.\n",
      "torch 2.4.1 requires typing-extensions>=4.8.0, but you have typing-extensions 4.5.0 which is incompatible.\n",
      "pydantic-core 2.23.3 requires typing-extensions!=4.7.0,>=4.6.0, but you have typing-extensions 4.5.0 which is incompatible.\n",
      "azure-storage-blob 12.23.1 requires typing-extensions>=4.6.0, but you have typing-extensions 4.5.0 which is incompatible.\n",
      "ibm-cloud-sdk-core 3.18.2 requires urllib3<3.0.0,>=2.1.0, but you have urllib3 1.26.20 which is incompatible.\n",
      "openai 1.45.0 requires typing-extensions<5,>=4.11, but you have typing-extensions 4.5.0 which is incompatible.\n",
      "xanadu-cloud-client 0.3.1 requires pydantic[dotenv]<2, but you have pydantic 2.9.1 which is incompatible.\n",
      "typeguard 4.3.0 requires typing-extensions>=4.10.0, but you have typing-extensions 4.5.0 which is incompatible.\n",
      "azure-core 1.31.0 requires typing-extensions>=4.6.0, but you have typing-extensions 4.5.0 which is incompatible.\n",
      "pydantic 2.9.1 requires typing-extensions>=4.6.1; python_version < \"3.13\", but you have typing-extensions 4.5.0 which is incompatible.\u001b[0m\u001b[31m\n",
      "\u001b[0mSuccessfully installed typing-extensions-4.5.0 urllib3-1.26.20\n"
     ]
    }
   ],
   "source": [
    "!pip install tensorflow"
   ]
  },
  {
   "cell_type": "code",
   "execution_count": 14,
   "id": "7b4f53a1",
   "metadata": {},
   "outputs": [
    {
     "name": "stdout",
     "output_type": "stream",
     "text": [
      "2.13.0\n"
     ]
    }
   ],
   "source": [
    "import tensorflow \n",
    "print(tensorflow.__version__)"
   ]
  },
  {
   "cell_type": "code",
   "execution_count": 15,
   "id": "cb4c5269",
   "metadata": {},
   "outputs": [],
   "source": [
    "import pandas as pd\n",
    "import numpy as np\n",
    "from sklearn.preprocessing import StandardScaler\n",
    "from sklearn.metrics import accuracy_score"
   ]
  },
  {
   "cell_type": "markdown",
   "id": "ef1f31d5",
   "metadata": {},
   "source": [
    "### Part 1: Import the Housing data and do feature transformations"
   ]
  },
  {
   "cell_type": "code",
   "execution_count": 16,
   "id": "5f6ce15d",
   "metadata": {},
   "outputs": [
    {
     "data": {
      "text/html": [
       "<div>\n",
       "<style scoped>\n",
       "    .dataframe tbody tr th:only-of-type {\n",
       "        vertical-align: middle;\n",
       "    }\n",
       "\n",
       "    .dataframe tbody tr th {\n",
       "        vertical-align: top;\n",
       "    }\n",
       "\n",
       "    .dataframe thead th {\n",
       "        text-align: right;\n",
       "    }\n",
       "</style>\n",
       "<table border=\"1\" class=\"dataframe\">\n",
       "  <thead>\n",
       "    <tr style=\"text-align: right;\">\n",
       "      <th></th>\n",
       "      <th>bedrooms</th>\n",
       "      <th>sqft_living</th>\n",
       "      <th>price</th>\n",
       "    </tr>\n",
       "  </thead>\n",
       "  <tbody>\n",
       "    <tr>\n",
       "      <th>0</th>\n",
       "      <td>3</td>\n",
       "      <td>1340</td>\n",
       "      <td>313000</td>\n",
       "    </tr>\n",
       "    <tr>\n",
       "      <th>1</th>\n",
       "      <td>5</td>\n",
       "      <td>3650</td>\n",
       "      <td>2384000</td>\n",
       "    </tr>\n",
       "    <tr>\n",
       "      <th>2</th>\n",
       "      <td>3</td>\n",
       "      <td>1930</td>\n",
       "      <td>342000</td>\n",
       "    </tr>\n",
       "    <tr>\n",
       "      <th>3</th>\n",
       "      <td>3</td>\n",
       "      <td>2000</td>\n",
       "      <td>420000</td>\n",
       "    </tr>\n",
       "    <tr>\n",
       "      <th>4</th>\n",
       "      <td>4</td>\n",
       "      <td>1940</td>\n",
       "      <td>550000</td>\n",
       "    </tr>\n",
       "  </tbody>\n",
       "</table>\n",
       "</div>"
      ],
      "text/plain": [
       "   bedrooms  sqft_living    price\n",
       "0         3         1340   313000\n",
       "1         5         3650  2384000\n",
       "2         3         1930   342000\n",
       "3         3         2000   420000\n",
       "4         4         1940   550000"
      ]
     },
     "execution_count": 16,
     "metadata": {},
     "output_type": "execute_result"
    }
   ],
   "source": [
    "df = pd.read_csv(\"house_price_full.csv\")\n",
    "df.head()"
   ]
  },
  {
   "cell_type": "markdown",
   "id": "408a4c7a",
   "metadata": {},
   "source": [
    "#### Feature transformations"
   ]
  },
  {
   "cell_type": "code",
   "execution_count": 35,
   "id": "708548a8",
   "metadata": {},
   "outputs": [],
   "source": [
    "x = df.copy()\n",
    "\n",
    "# Remove target from x and store in Y\n",
    "Y = x.pop('price')\n",
    "\n",
    "# Perform a scaler transform of the input data\n",
    "scaler = StandardScaler()\n",
    "x = scaler.fit_transform(x)\n",
    "\n",
    "# Perform log transformations of target variable\n",
    "Y = np.log(Y)"
   ]
  },
  {
   "cell_type": "code",
   "execution_count": 36,
   "id": "e38ac8f3",
   "metadata": {},
   "outputs": [
    {
     "data": {
      "text/html": [
       "<div>\n",
       "<style scoped>\n",
       "    .dataframe tbody tr th:only-of-type {\n",
       "        vertical-align: middle;\n",
       "    }\n",
       "\n",
       "    .dataframe tbody tr th {\n",
       "        vertical-align: top;\n",
       "    }\n",
       "\n",
       "    .dataframe thead th {\n",
       "        text-align: right;\n",
       "    }\n",
       "</style>\n",
       "<table border=\"1\" class=\"dataframe\">\n",
       "  <thead>\n",
       "    <tr style=\"text-align: right;\">\n",
       "      <th></th>\n",
       "      <th>0</th>\n",
       "      <th>1</th>\n",
       "    </tr>\n",
       "  </thead>\n",
       "  <tbody>\n",
       "    <tr>\n",
       "      <th>0</th>\n",
       "      <td>-0.433198</td>\n",
       "      <td>-0.753258</td>\n",
       "    </tr>\n",
       "    <tr>\n",
       "      <th>1</th>\n",
       "      <td>1.675735</td>\n",
       "      <td>1.457330</td>\n",
       "    </tr>\n",
       "    <tr>\n",
       "      <th>2</th>\n",
       "      <td>-0.433198</td>\n",
       "      <td>-0.188649</td>\n",
       "    </tr>\n",
       "    <tr>\n",
       "      <th>3</th>\n",
       "      <td>-0.433198</td>\n",
       "      <td>-0.121661</td>\n",
       "    </tr>\n",
       "    <tr>\n",
       "      <th>4</th>\n",
       "      <td>0.621269</td>\n",
       "      <td>-0.179079</td>\n",
       "    </tr>\n",
       "    <tr>\n",
       "      <th>...</th>\n",
       "      <td>...</td>\n",
       "      <td>...</td>\n",
       "    </tr>\n",
       "    <tr>\n",
       "      <th>494</th>\n",
       "      <td>0.621269</td>\n",
       "      <td>0.873582</td>\n",
       "    </tr>\n",
       "    <tr>\n",
       "      <th>495</th>\n",
       "      <td>1.675735</td>\n",
       "      <td>2.299459</td>\n",
       "    </tr>\n",
       "    <tr>\n",
       "      <th>496</th>\n",
       "      <td>-0.433198</td>\n",
       "      <td>-0.724549</td>\n",
       "    </tr>\n",
       "    <tr>\n",
       "      <th>497</th>\n",
       "      <td>-0.433198</td>\n",
       "      <td>-0.179079</td>\n",
       "    </tr>\n",
       "    <tr>\n",
       "      <th>498</th>\n",
       "      <td>-0.433198</td>\n",
       "      <td>-1.040347</td>\n",
       "    </tr>\n",
       "  </tbody>\n",
       "</table>\n",
       "<p>499 rows × 2 columns</p>\n",
       "</div>"
      ],
      "text/plain": [
       "            0         1\n",
       "0   -0.433198 -0.753258\n",
       "1    1.675735  1.457330\n",
       "2   -0.433198 -0.188649\n",
       "3   -0.433198 -0.121661\n",
       "4    0.621269 -0.179079\n",
       "..        ...       ...\n",
       "494  0.621269  0.873582\n",
       "495  1.675735  2.299459\n",
       "496 -0.433198 -0.724549\n",
       "497 -0.433198 -0.179079\n",
       "498 -0.433198 -1.040347\n",
       "\n",
       "[499 rows x 2 columns]"
      ]
     },
     "execution_count": 36,
     "metadata": {},
     "output_type": "execute_result"
    }
   ],
   "source": [
    "df_scaled = pd.DataFrame(x)\n",
    "df_scaled"
   ]
  },
  {
   "cell_type": "code",
   "execution_count": 37,
   "id": "2b33722e",
   "metadata": {},
   "outputs": [
    {
     "data": {
      "text/plain": [
       "0      12.653958\n",
       "1      14.684290\n",
       "2      12.742566\n",
       "3      12.948010\n",
       "4      13.217674\n",
       "         ...    \n",
       "494    13.380102\n",
       "495    13.764217\n",
       "496    12.128111\n",
       "497    12.721886\n",
       "498    12.254863\n",
       "Name: price, Length: 499, dtype: float64"
      ]
     },
     "execution_count": 37,
     "metadata": {},
     "output_type": "execute_result"
    }
   ],
   "source": [
    "Y"
   ]
  },
  {
   "cell_type": "markdown",
   "id": "e91ca88b",
   "metadata": {},
   "source": [
    "### Part 3: Create Model Using `keras`"
   ]
  },
  {
   "cell_type": "code",
   "execution_count": 38,
   "id": "ad2b22e0",
   "metadata": {},
   "outputs": [],
   "source": [
    "from tensorflow import keras"
   ]
  },
  {
   "cell_type": "code",
   "execution_count": 39,
   "id": "9322e8dc",
   "metadata": {},
   "outputs": [],
   "source": [
    "model = keras.Sequential(\n",
    "    [\n",
    "        keras.layers.Dense(\n",
    "            2, activation=\"sigmoid\", input_shape=(x.shape[-1],)\n",
    "        ),\n",
    "        keras.layers.Dense(1, activation=\"linear\")\n",
    "    ]\n",
    ")"
   ]
  },
  {
   "cell_type": "code",
   "execution_count": 40,
   "id": "293a9d19",
   "metadata": {},
   "outputs": [
    {
     "name": "stdout",
     "output_type": "stream",
     "text": [
      "Model: \"sequential_2\"\n",
      "_________________________________________________________________\n",
      " Layer (type)                Output Shape              Param #   \n",
      "=================================================================\n",
      " dense_4 (Dense)             (None, 2)                 6         \n",
      "                                                                 \n",
      " dense_5 (Dense)             (None, 1)                 3         \n",
      "                                                                 \n",
      "=================================================================\n",
      "Total params: 9 (36.00 Byte)\n",
      "Trainable params: 9 (36.00 Byte)\n",
      "Non-trainable params: 0 (0.00 Byte)\n",
      "_________________________________________________________________\n"
     ]
    }
   ],
   "source": [
    "model.summary()"
   ]
  },
  {
   "cell_type": "markdown",
   "id": "3014fd23",
   "metadata": {},
   "source": [
    "```python\n",
    "def random_init_params():\n",
    "    w1 = tf.Variable(tf.random.uniform((2, 2)))\n",
    "    b1 = tf.Variable(tf.random.uniform((1, 2)))\n",
    "    w2 = tf.Variable(tf.random.uniform((2, 1)))\n",
    "    b2 = tf.Variable(tf.random.uniform((1, 1)))\n",
    "    return w1,b1,w2,b2\n",
    "\n",
    "\n",
    "def forward_prop(x, w1, b1, w2, b2):\n",
    "    z1 = tf.matmul(x,w1) + b1\n",
    "    h1 = tf.math.sigmoid(z1)\n",
    "    z2 = tf.matmul(h1,w2) + b2\n",
    "    h2 = z2\n",
    "    return h2\n",
    "```"
   ]
  },
  {
   "cell_type": "code",
   "execution_count": 41,
   "id": "4acc27f5",
   "metadata": {},
   "outputs": [
    {
     "name": "stderr",
     "output_type": "stream",
     "text": [
      "WARNING:absl:At this time, the v2.11+ optimizer `tf.keras.optimizers.SGD` runs slowly on M1/M2 Macs, please use the legacy Keras optimizer instead, located at `tf.keras.optimizers.legacy.SGD`.\n",
      "WARNING:absl:There is a known slowdown when using v2.11+ Keras optimizers on M1/M2 Macs. Falling back to the legacy Keras optimizer, i.e., `tf.keras.optimizers.legacy.SGD`.\n"
     ]
    }
   ],
   "source": [
    "model.compile(\n",
    "    optimizer=keras.optimizers.SGD(), loss=\"mean_squared_error\"\n",
    ")"
   ]
  },
  {
   "cell_type": "markdown",
   "id": "108144ac",
   "metadata": {},
   "source": [
    "```python\n",
    "def train(x, y, w1, b1, w2, b2):\n",
    "    y_true = y\n",
    "    with tf.GradientTape() as g:\n",
    "        y_pred = forward_prop(x, w1, b1, w2, b2)\n",
    "\n",
    "        # loss\n",
    "        loss = 0.5*(y_true - y_pred)** 2\n",
    "    \n",
    "    #Gradient calculation  \n",
    "    print(\"**************************************************\")\n",
    "    print(\"GRADIENTS\")\n",
    "    print(\"**************************************************\")\n",
    "    gw1, gb1, gw2, gb2 = g.gradient(loss, [w1, b1, w2, b2])\n",
    "    print(\" the gradient for 1st layer weights are:\\n\",gw1.numpy())\n",
    "    print(\"--------------------------------------------------\")\n",
    "    print(\" the gradient for 2nd layer weights are:\\n\",gw2.numpy())\n",
    "    print(\"--------------------------------------------------\")\n",
    "    print(\" the gradient for 1st layer bias are:\\n\",gb1.numpy())\n",
    "    print(\"--------------------------------------------------\")\n",
    "    print(\" the gradient for 2nd layer bias are:\\n\",gb2.numpy())\n",
    "    print(\"--------------------------------------------------\")\n",
    "\n",
    "    # Gradient descent:\n",
    "    lr=0.2\n",
    "    w1.assign_sub(lr*gw1)\n",
    "    b1.assign_sub(lr*gb1) \n",
    "    w2.assign_sub(lr*gw2)\n",
    "    b2.assign_sub(lr*gb2)\n",
    "    print(\"**************************************************\")\n",
    "    print(\"NEW UPDATES\")\n",
    "    print(\"**************************************************\")\n",
    "    print(\" the updated 1st layer weights are:\\n\",w1.numpy())\n",
    "    print(\"--------------------------------------------------\")\n",
    "    print(\" the updated 2nd layer weights are:\\n\",w2.numpy())\n",
    "    print(\"--------------------------------------------------\")\n",
    "    print(\" the updated 1st layer bias are:\\n\",b1.numpy())\n",
    "    print(\"--------------------------------------------------\")\n",
    "    print(\" the updated 2nd layer bias are:\\n\",b2.numpy())\n",
    "\n",
    "\n",
    "    return w1, b1, w2, b2,loss\n",
    "\n",
    "```"
   ]
  },
  {
   "cell_type": "code",
   "execution_count": 42,
   "id": "8ea30595",
   "metadata": {},
   "outputs": [
    {
     "name": "stdout",
     "output_type": "stream",
     "text": [
      "Epoch 1/10\n",
      "16/16 [==============================] - 0s 384us/step - loss: 119.0054\n",
      "Epoch 2/10\n",
      "16/16 [==============================] - 0s 353us/step - loss: 37.1616\n",
      "Epoch 3/10\n",
      "16/16 [==============================] - 0s 388us/step - loss: 9.0322\n",
      "Epoch 4/10\n",
      "16/16 [==============================] - 0s 365us/step - loss: 2.3245\n",
      "Epoch 5/10\n",
      "16/16 [==============================] - 0s 422us/step - loss: 0.9031\n",
      "Epoch 6/10\n",
      "16/16 [==============================] - 0s 340us/step - loss: 0.5513\n",
      "Epoch 7/10\n",
      "16/16 [==============================] - 0s 311us/step - loss: 0.4217\n",
      "Epoch 8/10\n",
      "16/16 [==============================] - 0s 350us/step - loss: 0.3454\n",
      "Epoch 9/10\n",
      "16/16 [==============================] - 0s 315us/step - loss: 0.2891\n",
      "Epoch 10/10\n",
      "16/16 [==============================] - 0s 358us/step - loss: 0.2478\n"
     ]
    },
    {
     "data": {
      "text/plain": [
       "<keras.src.callbacks.History at 0x1117d1050>"
      ]
     },
     "execution_count": 42,
     "metadata": {},
     "output_type": "execute_result"
    }
   ],
   "source": [
    "model.fit(x, Y.values, epochs=10, batch_size=32)"
   ]
  },
  {
   "cell_type": "code",
   "execution_count": 43,
   "id": "6c623d54",
   "metadata": {},
   "outputs": [
    {
     "name": "stdout",
     "output_type": "stream",
     "text": [
      "16/16 [==============================] - 0s 336us/step\n"
     ]
    },
    {
     "data": {
      "text/plain": [
       "array([12.906993 , 13.038776 , 13.21438  , 13.243156 , 12.96517  ,\n",
       "       12.779192 , 13.109524 , 13.208235 , 13.389311 , 12.758008 ,\n",
       "       13.113781 , 13.250605 , 13.359699 , 12.738794 , 12.944149 ,\n",
       "       12.815687 , 13.0412855, 13.28212  , 12.925608 , 12.802044 ,\n",
       "       13.330881 , 12.717457 , 13.133259 , 13.212643 , 12.802179 ,\n",
       "       13.277987 , 13.368843 , 13.064938 , 12.9267025, 13.434225 ,\n",
       "       12.780381 , 13.239353 , 12.91207  , 13.231483 , 13.341743 ,\n",
       "       13.552755 , 12.714819 , 13.17962  , 13.226898 , 13.377762 ,\n",
       "       13.046692 , 12.735056 , 12.755323 , 13.142796 , 13.019758 ,\n",
       "       12.788252 , 13.231009 , 13.21438  , 12.862257 , 13.309229 ,\n",
       "       13.208235 , 13.500559 , 13.459926 , 13.15685  , 12.761442 ,\n",
       "       12.956643 , 13.061466 , 13.039571 , 12.894398 , 13.267605 ,\n",
       "       13.309229 , 13.453164 , 13.212643 , 13.419119 , 13.250605 ,\n",
       "       12.794922 , 13.083546 , 12.680027 , 13.644226 , 13.317385 ,\n",
       "       13.164737 , 13.489149 , 13.091722 , 13.201584 , 12.900713 ,\n",
       "       13.059122 , 13.054436 , 13.212643 , 13.036367 , 13.405916 ,\n",
       "       12.98594  , 13.346561 , 13.61025  , 13.15685  , 13.110683 ,\n",
       "       13.477475 , 12.972132 , 12.991028 , 13.145775 , 13.013067 ,\n",
       "       12.987893 , 13.303452 , 12.613987 , 13.36582  , 13.035845 ,\n",
       "       12.9098625, 13.098818 , 12.974655 , 12.94991  , 13.061341 ,\n",
       "       13.292271 , 13.247147 , 12.900713 , 13.119812 , 12.612022 ,\n",
       "       13.248775 , 13.0175705, 13.378939 , 12.747293 , 12.584932 ,\n",
       "       12.681267 , 13.10132  , 12.709709 , 12.864433 , 12.99403  ,\n",
       "       12.186676 , 13.327547 , 12.722992 , 12.989286 , 13.093761 ,\n",
       "       12.977726 , 12.973625 , 12.198397 , 13.192894 , 13.192894 ,\n",
       "       12.94991  , 12.735056 , 12.972132 , 13.210146 , 13.248775 ,\n",
       "       13.552755 , 13.030367 , 12.702005 , 13.515911 , 13.336395 ,\n",
       "       13.098148 , 13.15685  , 12.99403  , 13.152199 , 13.140232 ,\n",
       "       13.218584 , 12.985927 , 13.319625 , 13.380901 , 13.041828 ,\n",
       "       13.067961 , 12.9487095, 13.523158 , 13.075859 , 13.246725 ,\n",
       "       13.143051 , 12.711517 , 12.944091 , 12.913235 , 13.047295 ,\n",
       "       12.996756 , 13.243156 , 12.893576 , 12.648169 , 12.690006 ,\n",
       "       13.046692 , 13.032667 , 12.6244755, 13.073191 , 13.316276 ,\n",
       "       12.943611 , 12.758008 , 12.794922 , 12.709709 , 12.855716 ,\n",
       "       12.693373 , 13.094948 , 13.229467 , 13.083546 , 13.078386 ,\n",
       "       13.17962  , 12.99     , 12.94991  , 12.746605 , 13.39772  ,\n",
       "       12.680027 , 13.03303  , 13.107899 , 12.771763 , 13.143051 ,\n",
       "       13.280609 , 13.013722 , 13.17962  , 12.921246 , 13.3503   ,\n",
       "       12.955894 , 13.008103 , 13.292707 , 13.329008 , 13.073191 ,\n",
       "       13.152199 , 12.99     , 13.085189 , 13.269581 , 12.888044 ,\n",
       "       13.359524 , 13.3517275, 12.96674  , 12.944149 , 13.511341 ,\n",
       "       13.282904 , 13.295036 , 13.20147  , 12.835871 , 13.214815 ,\n",
       "       13.317405 , 12.753113 , 12.59325  , 13.201584 , 12.818243 ,\n",
       "       13.10384  , 12.955894 , 13.07616  , 13.235088 , 12.992768 ,\n",
       "       13.317385 , 12.514572 , 12.991028 , 12.940405 , 13.455439 ,\n",
       "       13.33646  , 12.862257 , 13.075859 , 13.271206 , 12.795167 ,\n",
       "       12.705943 , 12.664965 , 13.137389 , 13.38175  , 12.849138 ,\n",
       "       13.024855 , 13.057396 , 12.753113 , 13.175131 , 13.413906 ,\n",
       "       13.453164 , 11.930386 , 13.13163  , 12.864183 , 13.2704525,\n",
       "       13.138042 , 13.098818 , 13.225288 , 13.627381 , 12.916674 ,\n",
       "       12.94389  , 13.188501 , 12.43066  , 12.900906 , 13.462139 ,\n",
       "       12.680027 , 13.046692 , 13.182497 , 13.210146 , 13.36582  ,\n",
       "       13.0899105, 13.159456 , 13.552755 , 13.39772  , 12.878807 ,\n",
       "       12.731129 , 12.828552 , 13.142796 , 13.109524 , 13.226898 ,\n",
       "       13.308619 , 13.612814 , 13.066423 , 13.10132  , 12.828627 ,\n",
       "       13.194517 , 12.943611 , 13.313942 , 13.2550335, 13.340723 ,\n",
       "       13.062696 , 12.681775 , 13.272739 , 13.073191 , 12.702293 ,\n",
       "       13.509586 , 13.218584 , 12.94991  , 12.702345 , 12.731129 ,\n",
       "       12.802732 , 12.399176 , 13.057964 , 13.057396 , 13.002447 ,\n",
       "       12.906993 , 13.184076 , 13.419119 , 12.900906 , 12.931738 ,\n",
       "       13.078386 , 12.960104 , 13.043681 , 13.138042 , 13.088671 ,\n",
       "       13.170609 , 13.068381 , 12.740849 , 12.855716 , 13.071054 ,\n",
       "       13.360699 , 12.979048 , 13.195923 , 12.82562  , 13.060581 ,\n",
       "       12.731129 , 13.219841 , 13.277987 , 12.985061 , 12.869125 ,\n",
       "       13.093761 , 13.169924 , 12.96674  , 12.849138 , 12.99803  ,\n",
       "       13.196856 , 12.856375 , 13.226898 , 12.648169 , 13.115658 ,\n",
       "       13.381582 , 13.040038 , 12.907433 , 13.509165 , 13.10384  ,\n",
       "       13.218584 , 13.104467 , 13.013722 , 13.320717 , 13.081882 ,\n",
       "       12.937832 , 12.91545  , 12.996756 , 13.1513605, 12.834342 ,\n",
       "       13.330881 , 13.210146 , 13.197254 , 13.081882 , 13.059122 ,\n",
       "       12.841232 , 13.306772 , 12.99     , 12.886211 , 12.921246 ,\n",
       "       13.235088 , 12.697458 , 13.03303  , 13.091722 , 13.389311 ,\n",
       "       13.502399 , 13.091722 , 13.008103 , 12.634394 , 12.808886 ,\n",
       "       12.888044 , 12.922611 , 13.133259 , 12.894398 , 13.145844 ,\n",
       "       12.842524 , 12.855716 , 12.5940485, 13.355787 , 13.024855 ,\n",
       "       13.225288 , 12.979462 , 12.937832 , 13.443863 , 13.052061 ,\n",
       "       12.952331 , 13.249128 , 12.94991  , 12.951157 , 12.763315 ,\n",
       "       13.3534775, 12.886211 , 12.856375 , 13.375621 , 13.078386 ,\n",
       "       13.355133 , 13.22538  , 12.878904 , 12.705542 , 13.17962  ,\n",
       "       12.841232 , 13.403208 , 13.351019 , 13.182497 , 12.937832 ,\n",
       "       13.085189 , 13.148615 , 12.722992 , 12.828627 , 13.516503 ,\n",
       "       12.648169 , 12.937832 , 12.970692 , 13.368362 , 13.28171  ,\n",
       "       12.717037 , 13.002447 , 12.977726 , 12.94991  , 13.348833 ,\n",
       "       13.061466 , 13.210146 , 12.788252 , 13.373669 , 12.99     ,\n",
       "       13.05195  , 13.023569 , 13.235456 , 12.979048 , 13.280609 ,\n",
       "       12.955894 , 13.137389 , 12.960922 , 13.088671 , 12.94389  ,\n",
       "       13.196856 , 12.99     , 13.040038 , 12.914478 , 13.133259 ,\n",
       "       12.798067 , 13.15169  , 12.96517  , 12.94991  , 12.919439 ,\n",
       "       12.82918  , 13.233479 , 13.353118 , 13.107588 , 13.588997 ,\n",
       "       12.729226 , 13.274405 , 12.694942 , 12.960922 , 13.147512 ,\n",
       "       13.243156 , 13.10384  , 13.076088 , 12.881653 , 13.128714 ,\n",
       "       12.979048 , 13.10132  , 13.212643 , 13.235456 , 12.886211 ,\n",
       "       12.906993 , 13.333807 , 13.013693 , 12.671007 , 12.969955 ,\n",
       "       13.292707 , 13.162107 , 12.96517  , 12.913235 , 13.05088  ,\n",
       "       12.925608 , 13.38213  , 13.233479 , 13.247147 , 13.308006 ,\n",
       "       13.03303  , 13.118702 , 12.871361 , 13.035845 , 13.424242 ,\n",
       "       13.385155 , 13.026413 , 13.038776 , 13.306976 , 13.167341 ,\n",
       "       12.802732 , 13.261213 , 13.036367 , 13.325989 , 12.845623 ,\n",
       "       13.317385 , 12.869125 , 13.502399 , 12.664965 , 13.271206 ,\n",
       "       13.076443 , 12.925608 , 13.218584 , 12.702345 ], dtype=float32)"
      ]
     },
     "execution_count": 43,
     "metadata": {},
     "output_type": "execute_result"
    }
   ],
   "source": [
    "model.predict(x)[:,0]"
   ]
  },
  {
   "cell_type": "code",
   "execution_count": null,
   "id": "67ba290a",
   "metadata": {},
   "outputs": [],
   "source": []
  }
 ],
 "metadata": {
  "kernelspec": {
   "display_name": "Python 3 (ipykernel)",
   "language": "python",
   "name": "python3"
  },
  "language_info": {
   "codemirror_mode": {
    "name": "ipython",
    "version": 3
   },
   "file_extension": ".py",
   "mimetype": "text/x-python",
   "name": "python",
   "nbconvert_exporter": "python",
   "pygments_lexer": "ipython3",
   "version": "3.11.4"
  }
 },
 "nbformat": 4,
 "nbformat_minor": 5
}
